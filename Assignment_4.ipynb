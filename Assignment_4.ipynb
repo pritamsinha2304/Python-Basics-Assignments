{
  "nbformat": 4,
  "nbformat_minor": 0,
  "metadata": {
    "colab": {
      "name": "Assignment_4.ipynb",
      "provenance": [],
      "collapsed_sections": []
    },
    "kernelspec": {
      "name": "python3",
      "display_name": "Python 3"
    },
    "language_info": {
      "name": "python"
    }
  },
  "cells": [
    {
      "cell_type": "markdown",
      "source": [
        "1. What exactly is []?\n",
        "\n",
        "Empty List"
      ],
      "metadata": {
        "id": "YH0dIHOCSKN5"
      }
    },
    {
      "cell_type": "markdown",
      "source": [
        "2. In a list of values stored in a variable called spam, how would you assign the value 'hello' as the\n",
        "third value? (Assume [2, 4, 6, 8, 10] are in spam.)\n",
        "\n",
        "```python\n",
        "spam = [2, 4, 6, 8, 10]\n",
        "\n",
        "spam[2] = \"hello\"\n",
        "```\n",
        "\n"
      ],
      "metadata": {
        "id": "ZNdWhcgLSNu4"
      }
    },
    {
      "cell_type": "markdown",
      "source": [
        "Let's pretend the spam includes the list ['a', 'b', 'c', 'd'] for the next three queries."
      ],
      "metadata": {
        "id": "nlK2iHKzTUWf"
      }
    },
    {
      "cell_type": "markdown",
      "source": [
        "3. What is the value of spam[int(int('3' * 2) / 11)]?\n",
        "\n",
        "```python\n",
        "d\n",
        "```"
      ],
      "metadata": {
        "id": "Yumgbz-XTZYA"
      }
    },
    {
      "cell_type": "markdown",
      "source": [
        "4. What is the value of spam[-1]?\n",
        "\n",
        "```python\n",
        "d\n",
        "```"
      ],
      "metadata": {
        "id": "2QgTLzQVT1nh"
      }
    },
    {
      "cell_type": "markdown",
      "source": [
        "5. What is the value of spam[:2]?\n",
        "\n",
        "```python\n",
        "['a', 'b']\n",
        "```"
      ],
      "metadata": {
        "id": "7diFUlh-T4Dn"
      }
    },
    {
      "cell_type": "markdown",
      "source": [
        "Let's pretend bacon has the list [3.14, 'cat', 11, 'cat', True] for the next three questions."
      ],
      "metadata": {
        "id": "ym-hQHc2UJro"
      }
    },
    {
      "cell_type": "markdown",
      "source": [
        "6. What is the value of bacon.index('cat')?\n",
        "\n",
        "1"
      ],
      "metadata": {
        "id": "9ScP81mPVch6"
      }
    },
    {
      "cell_type": "markdown",
      "source": [
        "7. How does bacon.append(99) change the look of the list value in bacon?\n",
        "\n",
        "```python\n",
        "[3.14, 'cat', 11, 'cat', True, 99]\n",
        "```"
      ],
      "metadata": {
        "id": "WJzghhFFV017"
      }
    },
    {
      "cell_type": "markdown",
      "source": [
        "8. How does bacon.remove('cat') change the look of the list in bacon?\n",
        "\n",
        "```python\n",
        "[3.14, 11, 'cat', True, 99]\n",
        "```"
      ],
      "metadata": {
        "id": "hRpM9LM0WaXc"
      }
    },
    {
      "cell_type": "markdown",
      "source": [
        "9. What are the list concatenation and list replication operators?\n",
        "\n",
        "```python\n",
        "[] + []\n",
        "\n",
        "[:]\n",
        "```"
      ],
      "metadata": {
        "id": "Ws2QyLWsWyAz"
      }
    },
    {
      "cell_type": "markdown",
      "source": [
        "10. What is difference between the list methods append() and insert()?\n",
        "\n",
        "`append` appends the value to the last.\n",
        "\n",
        "`insert` inserts the value in the list in the specified index"
      ],
      "metadata": {
        "id": "zjfUhL1MXAwt"
      }
    },
    {
      "cell_type": "markdown",
      "source": [
        "11. What are the two methods for removing items from a list?\n",
        "\n",
        "```python\n",
        "remove()\n",
        "pop()\n",
        "```"
      ],
      "metadata": {
        "id": "cCc_pweeXttw"
      }
    },
    {
      "cell_type": "markdown",
      "source": [
        "12. Describe how list values and string values are identical.\n",
        "\n",
        "list can holds multiple string values as well as any combination of string, int, float etc."
      ],
      "metadata": {
        "id": "65BetoyoYbYw"
      }
    },
    {
      "cell_type": "markdown",
      "source": [
        "13. What's the difference between tuples and lists?\n",
        "\n",
        "tuple is immutable i.e. its value cannot be modified.\n",
        "\n",
        "list is mutable i.e. its value can be modified."
      ],
      "metadata": {
        "id": "9rrwKsz1bcKb"
      }
    },
    {
      "cell_type": "markdown",
      "source": [
        "14. How do you type a tuple value that only contains the integer 42?\n",
        "\n",
        "```python\n",
        "t = (42)\n",
        "print(t[0])\n",
        "```"
      ],
      "metadata": {
        "id": "sNHmjdzbb14E"
      }
    },
    {
      "cell_type": "markdown",
      "source": [
        "15. How do you get a list value's tuple form? How do you get a tuple value's list form?\n",
        "\n",
        "```python\n",
        "tuple([...])\n",
        "list((...))\n",
        "```"
      ],
      "metadata": {
        "id": "XJOdbHeJcBcO"
      }
    },
    {
      "cell_type": "markdown",
      "source": [
        "16. Variables that \"contain\" list values are not necessarily lists themselves. Instead, what do they contain?\n",
        "\n",
        "list values"
      ],
      "metadata": {
        "id": "-B0QLkMzcUhf"
      }
    },
    {
      "cell_type": "markdown",
      "source": [
        "17. How do you distinguish between copy.copy() and copy.deepcopy()?\n",
        "\n",
        "A `copy()` creates a new compound object and inserts the references of the object of the original.\n",
        "\n",
        "A `deepcopy()` creates a new compound object and inserts the copies the object of the original."
      ],
      "metadata": {
        "id": "lPteH_0ac8Tw"
      }
    }
  ]
}
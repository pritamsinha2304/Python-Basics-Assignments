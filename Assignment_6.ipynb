{
  "nbformat": 4,
  "nbformat_minor": 0,
  "metadata": {
    "colab": {
      "name": "Assignment_6.ipynb",
      "provenance": [],
      "collapsed_sections": []
    },
    "kernelspec": {
      "name": "python3",
      "display_name": "Python 3"
    },
    "language_info": {
      "name": "python"
    }
  },
  "cells": [
    {
      "cell_type": "markdown",
      "source": [
        "1. What are escape characters, and how do you use them?\n",
        "\n",
        "Escape characters are used with special characters where the special character is illegal to use.\n",
        "\n",
        "It starts with backslash `\\` followed by character we want to use.\n",
        "\n",
        "```python\n",
        "\\'\n",
        "\\r\n",
        "\\t\n",
        "\\b\n",
        "\\f\n",
        "\\\\\n",
        "\\ooo\n",
        "\\xhh\n",
        "\n",
        "```"
      ],
      "metadata": {
        "id": "-WEtoIp8zScK"
      }
    },
    {
      "cell_type": "markdown",
      "source": [
        "2. What do the escape characters n and t stand for?\n",
        "\n",
        "n stands for new line\n",
        "t stands for tab (== 4 spaces)"
      ],
      "metadata": {
        "id": "EQzVhBw21UHc"
      }
    },
    {
      "cell_type": "markdown",
      "source": [
        "3. What is the way to include backslash characters in a string?\n",
        "\n",
        "```python\n",
        "\"Hello I \"am\" a boy\"\n",
        "\"Hello I \\\"am\\\" a boy\"\n",
        "\n",
        "```"
      ],
      "metadata": {
        "id": "F_P2kPTH1fHA"
      }
    },
    {
      "cell_type": "markdown",
      "source": [
        "4. The string \"Howl's Moving Castle\" is a correct value. Why isn't the single quote character in the word Howl's not escaped a problem?\n",
        "\n",
        "Because the starting and closing quotes are different. If starting and ending quotes happens to be `'` then we have to use escape\n",
        "\n",
        "```python\n",
        "\"Howl's Moving Castle\"\n",
        "'Howl's Moving Castle'\n",
        "'Howl\\'s Moving Castle'\n",
        "```"
      ],
      "metadata": {
        "id": "dLwt-aQK12zi"
      }
    },
    {
      "cell_type": "markdown",
      "source": [
        "5. How do you write a string of newlines if you don't want to use the n character?\n",
        "\n",
        "Break the string and `print()` all the seperated word. \n"
      ],
      "metadata": {
        "id": "IHCnyusE2UMF"
      }
    },
    {
      "cell_type": "markdown",
      "source": [
        "6. What are the values of the given expressions?\n",
        "\n",
        "```python\n",
        "'Hello, world!'[1]\n",
        "'Hello, world!'[0:5]\n",
        "'Hello, world!'[:5]\n",
        "'Hello, world!'[3:]\n",
        "```\n",
        "```python\n",
        "e\n",
        "Hello\n",
        "Hello\n",
        "lo, world!\n",
        "```\n"
      ],
      "metadata": {
        "id": "INEBiA4K32IZ"
      }
    },
    {
      "cell_type": "markdown",
      "source": [
        "7. What are the values of the following expressions?\n",
        "```python\n",
        "'Hello'.upper()\n",
        "'Hello'.upper().isupper()\n",
        "'Hello'.upper().lower()\n",
        "```\n",
        "\n",
        "```python\n",
        "HELLO\n",
        "True\n",
        "hello\n",
        "```"
      ],
      "metadata": {
        "id": "qcqAlUjJ4Nyr"
      }
    },
    {
      "cell_type": "markdown",
      "source": [
        "8. What are the values of the following expressions?\n",
        "```python\n",
        "'Remember, remember, the fifth of July.'.split()\n",
        "'-'.join('There can only one.'.split())\n",
        "```\n",
        "\n",
        "```python\n",
        "['Remember,', 'remember,', 'the', 'fifth', 'of', 'July']\n",
        "\"There-can-only-one\"\n",
        "```\n"
      ],
      "metadata": {
        "id": "cKg5Tq3j4fQQ"
      }
    },
    {
      "cell_type": "markdown",
      "source": [
        "9. What are the methods for right-justifying, left-justifying, and centering a string?\n",
        "\n",
        "`left-justifying` a string means the string starts displaying from the left side. `str.ljust()`\n",
        "\n",
        "`right-justifying` a string means the string starts displaying from the right side. `str.rjust()`\n",
        "\n",
        "`center-justifying` a string means the string starts displaying in the center. `str.center()`"
      ],
      "metadata": {
        "id": "txGRhRUb454y"
      }
    },
    {
      "cell_type": "markdown",
      "source": [
        "10. What is the best way to remove whitespace characters from the start or end?\n",
        "\n",
        "```python\n",
        "str.rstrip()\n",
        "str.lstrip()\n",
        "str.strip()\n",
        "```"
      ],
      "metadata": {
        "id": "TWLvMR7y9rPz"
      }
    }
  ]
}
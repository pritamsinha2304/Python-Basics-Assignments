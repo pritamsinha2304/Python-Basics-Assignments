{
  "nbformat": 4,
  "nbformat_minor": 0,
  "metadata": {
    "colab": {
      "name": "Assignment_7.ipynb",
      "provenance": [],
      "collapsed_sections": []
    },
    "kernelspec": {
      "name": "python3",
      "display_name": "Python 3"
    },
    "language_info": {
      "name": "python"
    }
  },
  "cells": [
    {
      "cell_type": "markdown",
      "source": [
        "1. What is the name of the feature responsible for generating Regex objects?\n",
        "\n",
        "```python\n",
        "re.compile()\n",
        "\n",
        "```"
      ],
      "metadata": {
        "id": "2I7D1nKh-TbM"
      }
    },
    {
      "cell_type": "markdown",
      "source": [
        "2. Why do raw strings often appear in Regex objects?\n",
        "\n",
        "So that backslash doesn't have to be escaped."
      ],
      "metadata": {
        "id": "w3ApF5_NAjLd"
      }
    },
    {
      "cell_type": "markdown",
      "source": [
        "3. What is the return value of the search() method?\n",
        "\n",
        "Match object"
      ],
      "metadata": {
        "id": "yDVps3SLLpXo"
      }
    },
    {
      "cell_type": "markdown",
      "source": [
        "4. From a Match item, how do you get the actual strings that match the pattern?\n",
        "\n",
        ".group()"
      ],
      "metadata": {
        "id": "QbEYy0imMgcu"
      }
    },
    {
      "cell_type": "markdown",
      "source": [
        "5. In the regex which created from the r'(\\d\\d\\d)-(\\d\\d\\d-\\d\\d\\d\\d)', what does group zero cover?\n",
        "Group 2? Group 1?\n",
        "\n",
        "Group 0: will return string which matches the whole pattern\n",
        "\n",
        "Group 1: will return string which matches only `(\\d\\d\\d)`\n",
        "\n",
        "Group 2: will return string which matches only `(\\d\\d\\d-\\d\\d\\d\\d)`\n",
        "\n"
      ],
      "metadata": {
        "id": "d7SP4NsxcGjZ"
      }
    },
    {
      "cell_type": "markdown",
      "source": [
        "6. In standard expression syntax, parentheses and intervals have distinct meanings. How can you tell\n",
        "a regex that you want it to fit real parentheses and periods?\n",
        "\n",
        "By escaping it using backslash `\\`"
      ],
      "metadata": {
        "id": "Kp_dU9_re_ia"
      }
    },
    {
      "cell_type": "markdown",
      "source": [
        "7. The findall() method returns a string list or a list of string tuples. What causes it to return one of the two options?\n",
        "\n",
        "`findall()` returns non overlapping list of strings beacuse it scan the string from left to right."
      ],
      "metadata": {
        "id": "W-b1kw1mf2lK"
      }
    },
    {
      "cell_type": "markdown",
      "source": [
        "8. In standard expressions, what does the | character mean?\n",
        "\n",
        "`|` means `OR`. `a|b`"
      ],
      "metadata": {
        "id": "qKwUMF0xhE-p"
      }
    },
    {
      "cell_type": "markdown",
      "source": [
        "9. In regular expressions, what does the character stand for?\n",
        "\n",
        "any number, alphabets, apecial character, digits."
      ],
      "metadata": {
        "id": "9kuajiz7hRuU"
      }
    },
    {
      "cell_type": "markdown",
      "source": [
        "10.In regular expressions, what is the difference between the + and * characters?\n",
        "\n",
        "`+` means one or more occurrences\n",
        "\n",
        "`*` means zero or more occurrences"
      ],
      "metadata": {
        "id": "ehY0hqDrhiVr"
      }
    },
    {
      "cell_type": "markdown",
      "source": [
        "11. What is the difference between {4} and {4,5} in regular expression?\n",
        "\n",
        "`{4}` means length should be 4\n",
        "\n",
        "`{4,5}` means length should be between 4 and 5"
      ],
      "metadata": {
        "id": "k3sC2TX2hrpZ"
      }
    },
    {
      "cell_type": "markdown",
      "source": [
        "12. What do you mean by the \\d, \\w, and \\s shorthand character classes signify in regular expressions?\n",
        "\n",
        "`\\d` means any digits `[0-9]`\n",
        "\n",
        "`\\w` means word characters `[a-zA-Z0-9_]`\n",
        "\n",
        "`\\s` means matches white-spaces `[ \\t\\n\\r\\f]`\n"
      ],
      "metadata": {
        "id": "gA5-tI2aiK5C"
      }
    },
    {
      "cell_type": "markdown",
      "source": [
        "13. What do means by \\D, \\W, and \\S shorthand character classes signify in regular expressions?\n",
        "\n",
        "`\\D` means matches non-digits `[^0-9]`\n",
        "\n",
        "`\\W` means matches non word characters `[^a-zA-Z0-9_]`\n",
        "\n",
        "`\\S` means matches non white-spaces `[^ \\t\\n\\r\\f]`"
      ],
      "metadata": {
        "id": "zjVX_BYli6lC"
      }
    },
    {
      "cell_type": "markdown",
      "source": [
        "14. What is the difference between .\\*? and .\\* ?\n",
        "\n",
        "`.\\*?` It is a non-greedy technique. It match for nothing and then start matching extra xharacters one by one until it finds the character after `?`. It can also return multiple pattern if present.\n",
        "\n",
        "`.\\*`- it is a greedy technique. It gives the longest matching string. It starts from the last and match zero or more occurances of any character backtrack if does not match."
      ],
      "metadata": {
        "id": "kqEQ09v-nzYD"
      }
    },
    {
      "cell_type": "markdown",
      "source": [
        "15. What is the syntax for matching both numbers and lowercase letters with a character class?\n",
        "\n",
        "```python\n",
        "[a-z0-9]\n",
        "```"
      ],
      "metadata": {
        "id": "zVRjW1Ryx_RA"
      }
    },
    {
      "cell_type": "markdown",
      "source": [
        "16. What is the procedure for making a normal expression in regax case insensitive?\n",
        "\n",
        "```python\n",
        "re.compile(pattern, re.IGNORECASE)\n",
        "```"
      ],
      "metadata": {
        "id": "T_wEVTZZ7F3y"
      }
    },
    {
      "cell_type": "markdown",
      "source": [
        "17. What does the . character normally match? What does it match if re.DOTALL is passed as 2nd argument in re.compile()?\n",
        "\n",
        "`.` - Match any character except new line\n",
        "\n",
        "`re.DOTALL` - Match any character including newline"
      ],
      "metadata": {
        "id": "cs4tTxFYGlLD"
      }
    },
    {
      "cell_type": "markdown",
      "source": [
        "18. If numReg = re.compile(r'\\d+'), what will numRegex.sub('X', '11 drummers, 10 pipers, five rings, 4hen') return?\n",
        "\n",
        "```python\n",
        "X drummers, X pipers, five rings, Xhen\n",
        "```"
      ],
      "metadata": {
        "id": "znNtEBPUIbgk"
      }
    },
    {
      "cell_type": "markdown",
      "source": [
        "19. What does passing re.VERBOSE as the 2nd argument to re.compile() allow to do?\n",
        "\n",
        "It makes the pattern more nicer and readable by adding comments and also seperating pattern."
      ],
      "metadata": {
        "id": "J0JiJrk2MVld"
      }
    },
    {
      "cell_type": "markdown",
      "source": [
        "20. How would you write a regex that match a number with comma for every three digits? It must match the given following:\n",
        "```python\n",
        "'42'\n",
        "'1,234'\n",
        "'6,368,745'\n",
        "```\n",
        "\n",
        "but not the following:\n",
        "```python\n",
        "'12,34,567' (which has only two digits between the commas)\n",
        "'1234' (which lacks commas)\n",
        "```\n",
        "\n",
        "```python\n",
        "r\"^(\\d{1,3})(,\\d{3})*$\"\n",
        "```"
      ],
      "metadata": {
        "id": "V8GuL4b4Nn_6"
      }
    },
    {
      "cell_type": "markdown",
      "source": [
        "21. How would you write a regex that matches the full name of someone whose last name is Watanabe? You can assume that the first name that comes before it will always be one word that begins with a capital letter. The regex must match the following:\n",
        "```python\n",
        "'Haruto Watanabe'\n",
        "'Alice Watanabe'\n",
        "'RoboCop Watanabe'\n",
        "```\n",
        "but not the following:\n",
        "```python\n",
        "'haruto Watanabe' (where the first name is not capitalized)\n",
        "'Mr. Watanabe' (where the preceding word has a nonletter character)\n",
        "'Watanabe' (which has no first name)\n",
        "'Haruto watanabe' (where Watanabe is not capitalized)\n",
        "```\n",
        "\n",
        "```python\n",
        "r\"^([A-Z][a-zA-Z]*) Watanabe$\"\n",
        "```"
      ],
      "metadata": {
        "id": "RvsU5LUXRzYc"
      }
    },
    {
      "cell_type": "markdown",
      "source": [
        "22. How would you write a regex that matches a sentence where the first word is either Alice, Bob, or Carol; the second word is either eats, pets, or throws; the third word is apples, cats, or baseballs;\n",
        "and the sentence ends with a period? This regex should be case-insensitive. It must match the following:\n",
        "\n",
        "```python\n",
        "'Alice eats apples.'\n",
        "'Bob pets cats.'\n",
        "'Carol throws baseballs.'\n",
        "'Alice throws Apples.'\n",
        "'BOB EATS CATS.'\n",
        "```\n",
        "\n",
        "but not the following:\n",
        "```python\n",
        "'RoboCop eats apples.'\n",
        "'ALICE THROWS FOOTBALLS.'\n",
        "'Carol eats 7 cats.'\n",
        "```\n",
        "\n",
        "```python\n",
        "r\"^(?i)(Alice|Bob|Carol) (eats|pets|throws) (apples|cats|baseballs)\\.$\"\n",
        "```"
      ],
      "metadata": {
        "id": "tbwkAU9zVFnc"
      }
    }
  ]
}
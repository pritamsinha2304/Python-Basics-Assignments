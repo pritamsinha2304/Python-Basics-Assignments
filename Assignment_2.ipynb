{
  "nbformat": 4,
  "nbformat_minor": 0,
  "metadata": {
    "colab": {
      "name": "Assignment_2.ipynb",
      "provenance": [],
      "collapsed_sections": []
    },
    "kernelspec": {
      "name": "python3",
      "display_name": "Python 3"
    },
    "language_info": {
      "name": "python"
    }
  },
  "cells": [
    {
      "cell_type": "markdown",
      "source": [
        "1.What are the two values of the Boolean data type? How do you write them?\n",
        "\n",
        "```python\n",
        "a = True\n",
        "a = False\n",
        "```"
      ],
      "metadata": {
        "id": "lgdsNmTd4XvX"
      }
    },
    {
      "cell_type": "markdown",
      "source": [
        "2. What are the three different types of Boolean operators?\n",
        "\n",
        "```python\n",
        "a and b\n",
        "a or b\n",
        "not a \n",
        "```"
      ],
      "metadata": {
        "id": "DSE8TMFf4kR2"
      }
    },
    {
      "cell_type": "markdown",
      "source": [
        "3. Make a list of each Boolean operator's truth tables (i.e. every possible combination of Boolean values for the operator and what it evaluate ).\n",
        "\n",
        "<table>\n",
        "    <tr>\n",
        "        <th>A</th>\n",
        "        <th>B</th>\n",
        "        <th>A and B</th>\n",
        "        <th>A or B</th>\n",
        "        <th>not A</th>\n",
        "    </tr>\n",
        "    <tr>\n",
        "        <td>False</td>\n",
        "        <td>False</td>\n",
        "        <td>False</td>\n",
        "        <td>False</td>\n",
        "        <td>True</td>\n",
        "    </tr>\n",
        "    <tr>\n",
        "        <td>False</td>\n",
        "        <td>True</td>\n",
        "        <td>False</td>\n",
        "        <td>True</td>\n",
        "        <td>True</td>\n",
        "    </tr>\n",
        "    <tr>\n",
        "        <td>True</td>\n",
        "        <td>False</td>\n",
        "        <td>False</td>\n",
        "        <td>True</td>\n",
        "        <td>False</td>\n",
        "    </tr>\n",
        "    <tr>\n",
        "        <td>True</td>\n",
        "        <td>True</td>\n",
        "        <td>True</td>\n",
        "        <td>True</td>\n",
        "        <td>False</td>\n",
        "    </tr>\n",
        "</table>\n"
      ],
      "metadata": {
        "id": "BFX5Y4mU5Q6y"
      }
    },
    {
      "cell_type": "markdown",
      "source": [
        "4. What are the values of the following expressions?\n",
        "```python\n",
        "(5 > 4) and (3 == 5)\n",
        "not (5 > 4)\n",
        "(5 > 4) or (3 == 5)\n",
        "not ((5 > 4) or (3 == 5))\n",
        "(True and True) and (True == False)\n",
        "(not False) or (not True)\n",
        "```\n",
        "\n",
        "```python\n",
        "False\n",
        "False\n",
        "True\n",
        "False\n",
        "False\n",
        "True\n",
        "```"
      ],
      "metadata": {
        "id": "yru3CerC7cpU"
      }
    },
    {
      "cell_type": "markdown",
      "source": [
        "5. What are the six comparison operators?\n",
        "\n",
        "```python\n",
        ">, <, >=, <=, ==, !=\n",
        "```"
      ],
      "metadata": {
        "id": "fAEO0no58zDm"
      }
    },
    {
      "cell_type": "markdown",
      "source": [
        "6. How do you tell the difference between the equal to and assignment operators? Describe a condition and when you would use one.\n",
        "\n",
        "`==` is used when we want to check the equality of two variable or value.\n",
        "```python\n",
        "a = 4\n",
        "b = 4\n",
        "print(a == b)\n",
        "```\n",
        "\n",
        "`=` is used when we wan to assign a variable some value.\n",
        "```python\n",
        "a = 4\n",
        "b = 5\n",
        "```"
      ],
      "metadata": {
        "id": "DILqNqLS9BOe"
      }
    },
    {
      "cell_type": "markdown",
      "source": [
        "7. Identify the three blocks in this code:\n",
        "```python\n",
        "spam = 0\n",
        "if spam == 10:\n",
        "    print('eggs')\n",
        "if spam > 5:\n",
        "    print('bacon')\n",
        "else:\n",
        "    print('ham')\n",
        "    print('spam')\n",
        "    print('spam')\n",
        "```\n",
        "\n",
        "```python\n",
        "ham\n",
        "spam\n",
        "spam\n",
        "```"
      ],
      "metadata": {
        "id": "ngrvvyUX-GWY"
      }
    },
    {
      "cell_type": "markdown",
      "source": [
        "8. Write code that prints Hello if 1 is stored in spam, prints Howdy if 2 is stored in spam, and prints\n",
        "Greetings! if anything else is stored in spam.\n",
        "\n",
        "```python\n",
        "if spam == 1:\n",
        "    print(\"Hello\")\n",
        "elif spam == 2:\n",
        "    print(\"Howdy\")\n",
        "else:\n",
        "    print(\"Greetings!\")\n",
        "```"
      ],
      "metadata": {
        "id": "ax0Y0bcv-iWI"
      }
    },
    {
      "cell_type": "markdown",
      "source": [
        "9.If your programme is stuck in an endless loop, what keys you’ll press?\n",
        "\n",
        "```python\n",
        "Ctrl+C\n",
        "```"
      ],
      "metadata": {
        "id": "de1sIY5P-7Ey"
      }
    },
    {
      "cell_type": "markdown",
      "source": [
        "10. How can you tell the difference between break and continue?\n",
        "\n",
        "`break` will come out from the loop within which that break statement is executed.\n",
        "\n",
        "`continue` will simply go the next iteration in the loop."
      ],
      "metadata": {
        "id": "cMo1gJ1Y_Dj6"
      }
    },
    {
      "cell_type": "markdown",
      "source": [
        "11. In a for loop, what is the difference between range(10), range(0, 10), and range(0, 10, 1)?\n",
        "\n",
        "All does the same thing i.e. Iterate from 0 to 10 taking 1 step at a time."
      ],
      "metadata": {
        "id": "srhE2Wef_akA"
      }
    },
    {
      "cell_type": "markdown",
      "source": [
        "12. Write a short program that prints the numbers 1 to 10 using a for loop. Then write an equivalent\n",
        "program that prints the numbers 1 to 10 using a while loop.\n",
        "\n",
        "```python\n",
        "for i in range(1, 11):\n",
        "    print(i)\n",
        "```\n",
        "\n",
        "```python\n",
        "i = 10\n",
        "while(i!=0):\n",
        "    print(i)\n",
        "    i -= 1\n",
        "```"
      ],
      "metadata": {
        "id": "LsSYJmb0_ttS"
      }
    },
    {
      "cell_type": "markdown",
      "source": [
        "13. If you had a function named bacon() inside a module named spam, how would you call it after importing spam?\n",
        "\n",
        "```python\n",
        "import spam\n",
        "spam.bacon()\n",
        "```"
      ],
      "metadata": {
        "id": "yhKe4NDIAnst"
      }
    }
  ]
}
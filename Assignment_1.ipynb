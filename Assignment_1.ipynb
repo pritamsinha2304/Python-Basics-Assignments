{
  "nbformat": 4,
  "nbformat_minor": 0,
  "metadata": {
    "colab": {
      "name": "Assignment_1.ipynb",
      "provenance": [],
      "collapsed_sections": []
    },
    "kernelspec": {
      "name": "python3",
      "display_name": "Python 3"
    },
    "language_info": {
      "name": "python"
    }
  },
  "cells": [
    {
      "cell_type": "markdown",
      "source": [
        "1. In the below elements which of them are values or an expression? eg:- values can be\n",
        "integer or string and expressions will be mathematical operators.\n",
        "\n",
        "    *, 'hello', -87.8, -, /, +, 6\n",
        "\n",
        "\n",
        "Values- 'hello', -87.8, 6\n",
        "Operators- *, -, /, +"
      ],
      "metadata": {
        "id": "klnvC9ydwQEU"
      }
    },
    {
      "cell_type": "markdown",
      "source": [
        "2. What is the difference between string and variable?\n",
        "\n",
        "A variable holds data of any type.\n",
        "```python\n",
        "a = .....\n",
        "```\n",
        "\n",
        "A string is a data type. \n",
        "```python\n",
        "\"hello\"\n",
        "```\n",
        "\n",
        "Infact a variable can hold string type value \n",
        "```python\n",
        "a = \"hello\"\n",
        "```"
      ],
      "metadata": {
        "id": "67hgJmqoweOB"
      }
    },
    {
      "cell_type": "markdown",
      "source": [
        "3. Describe three different data types.\n",
        "\n",
        "int: Holds integer value\n",
        "```python\n",
        "a = 32\n",
        "```\n",
        "\n",
        "float: Holds float value\n",
        "```python\n",
        "a = 32.2\n",
        "```\n",
        "\n",
        "str: Holds string value\n",
        "```python\n",
        "a = \"hello\"\n",
        "```"
      ],
      "metadata": {
        "id": "cvW9MeQGxz9U"
      }
    },
    {
      "cell_type": "markdown",
      "source": [
        "4. What is an expression made up of? What do all expressions do?\n",
        "\n",
        "An expression is made of numbers, operators, characters, alphabets, values and functions.\n",
        "\n",
        "We evaluate an expression which takes all the values and do the calculation and return the calculated result."
      ],
      "metadata": {
        "id": "e1Be-aXTyeAa"
      }
    },
    {
      "cell_type": "markdown",
      "source": [
        "5. This assignment statements, like spam = 10. What is the difference between an expression and a statement?\n",
        "\n",
        "An expression is combination of operators, numbers which on evaluation yield result.\n",
        "\n",
        "An statement may be an assignment which doesn't return anything."
      ],
      "metadata": {
        "id": "1D3xmr_Vy-K-"
      }
    },
    {
      "cell_type": "markdown",
      "source": [
        "6. After running the following code, what does the variable bacon contain?\n",
        "```python\n",
        "bacon = 22\n",
        "bacon + 1\n",
        "```\n",
        "```python\n",
        "22\n",
        "```"
      ],
      "metadata": {
        "id": "K4jPevsO0Cmr"
      }
    },
    {
      "cell_type": "markdown",
      "source": [
        "7. What should the values of the following two terms be?\n",
        "```python\n",
        "'spam' + 'spamspam'\n",
        "'spam' * 3\n",
        "```\n",
        "```python\n",
        "spamspamspam\n",
        "spamspamspam\n",
        "```"
      ],
      "metadata": {
        "id": "BjqkZ5Wn0WPz"
      }
    },
    {
      "cell_type": "markdown",
      "source": [
        "8. Why is eggs a valid variable name while 100 is invalid?\n",
        "\n",
        "100 is an integer type value. We can't use int type data to name a variable. \n",
        "\n",
        "In fact there is specific rules of how we can name a variable. Only specific characters are allowed [a-zA-z][0-9_]*"
      ],
      "metadata": {
        "id": "V-mW7osv0mco"
      }
    },
    {
      "cell_type": "markdown",
      "source": [
        "9. What three functions can be used to get the integer, floating-point number, or string version of a value?\n",
        "\n",
        "```python\n",
        "a = 10\n",
        "\n",
        "str(a)\n",
        "float(a)\n",
        "int(a)\n",
        "\n",
        "```"
      ],
      "metadata": {
        "id": "YsRUxgKC1qMu"
      }
    },
    {
      "cell_type": "markdown",
      "source": [
        "10. Why does this expression cause an error? How can you fix it?\n",
        "'I have eaten ' + 99 + ' burritos.'\n",
        "\n",
        "It is an combination of `str` and `int`. We can't concatenate 2 different data type. Any string concatenation only works if all the concatenated vales are `str` as well.\n",
        "\n",
        "```python\n",
        "'I have eaten ' + str(99) + ' burritos.'\n",
        "'I have eaten ' + '99' + ' burritos.'\n",
        "```"
      ],
      "metadata": {
        "id": "Bs3-LOeS2frL"
      }
    }
  ]
}
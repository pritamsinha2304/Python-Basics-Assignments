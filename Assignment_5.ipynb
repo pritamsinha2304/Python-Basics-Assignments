{
  "nbformat": 4,
  "nbformat_minor": 0,
  "metadata": {
    "colab": {
      "name": "Assignment_5.ipynb",
      "provenance": [],
      "collapsed_sections": []
    },
    "kernelspec": {
      "name": "python3",
      "display_name": "Python 3"
    },
    "language_info": {
      "name": "python"
    }
  },
  "cells": [
    {
      "cell_type": "markdown",
      "source": [
        "1. What does an empty dictionary's code look like?\n",
        "\n",
        "```python\n",
        "{}\n",
        "```"
      ],
      "metadata": {
        "id": "P4E_hMzcryay"
      }
    },
    {
      "cell_type": "markdown",
      "source": [
        "2. What is the value of a dictionary value with the key 'foo' and the value 42?\n",
        "\n",
        "```python\n",
        "{'foo': 42}\n",
        "\n",
        "```"
      ],
      "metadata": {
        "id": "lG6GOGJXr5sS"
      }
    },
    {
      "cell_type": "markdown",
      "source": [
        "3. What is the most significant distinction between a dictionary and a list?\n",
        "\n",
        "A list contain a value. While a dictionary contain a key-value pair.\n",
        "\n",
        "A list lookup is slow compareed to dictionary lookup\n",
        "\n",
        "The time complexity for list lookup can take `O(n)` while dictionary lookup take `O(1)`."
      ],
      "metadata": {
        "id": "RFEIEbrfsD8v"
      }
    },
    {
      "cell_type": "markdown",
      "source": [
        "4. What happens if you try to access spam['foo'] if spam is {'bar': 100}?\n",
        "\n",
        "Error"
      ],
      "metadata": {
        "id": "U5WMEWbjuXno"
      }
    },
    {
      "cell_type": "markdown",
      "source": [
        "5. If a dictionary is stored in spam, what is the difference between the expressions 'cat' in spam and 'cat' in spam.keys()?\n",
        "\n",
        "Depends if the dictionary actually has the 'cat' key in it. If not it throws error.\n",
        "\n",
        "If yes, then both return `True`. 'cat' in spam check if 'cat' is present in the keys of the dictionary while 'cat' in spam.keys() extract all the keys in a list from the dictionary then search the list if 'cat' is present or not. "
      ],
      "metadata": {
        "id": "yr1PC72KukRr"
      }
    },
    {
      "cell_type": "markdown",
      "source": [
        "6. If a dictionary is stored in spam, what is the difference between the expressions 'cat' in spam and 'cat' in spam.values()?\n",
        "\n",
        "'cat' in spam check if 'cat' is present in the keys of the dictionary while 'cat' in spam.values() extract all the values in a list from the dictionary then search the list if 'cat' is present or not."
      ],
      "metadata": {
        "id": "D5O0_Ws4w5HW"
      }
    },
    {
      "cell_type": "markdown",
      "source": [
        "7. What is a shortcut for the following code?\n",
        "\n",
        "```python\n",
        "if 'color' not in spam:\n",
        "    spam['color'] = 'black'\n",
        "```\n",
        "\n",
        "```python\n",
        "spam['color'] = 'black'\n",
        "```"
      ],
      "metadata": {
        "id": "uyrZvRwKw5Bf"
      }
    },
    {
      "cell_type": "markdown",
      "source": [
        "8. How do you \"pretty print\" dictionary values using which module and function?\n",
        "\n",
        "```python\n",
        "import pprint\n",
        "pprint.pprint(<dictionary_object>)\n",
        "```"
      ],
      "metadata": {
        "id": "sDwIu5qkx5qR"
      }
    }
  ]
}
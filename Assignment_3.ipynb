{
  "nbformat": 4,
  "nbformat_minor": 0,
  "metadata": {
    "colab": {
      "name": "Assignment_3.ipynb",
      "provenance": [],
      "collapsed_sections": []
    },
    "kernelspec": {
      "name": "python3",
      "display_name": "Python 3"
    },
    "language_info": {
      "name": "python"
    }
  },
  "cells": [
    {
      "cell_type": "markdown",
      "source": [
        "1. Why are functions advantageous to have in your programs?\n",
        "\n",
        "a. Function can be called anytime from anywhere by anyone.\n",
        "\n",
        "b. Function can take any parameters and it use that parameters to evaluate whatever inside is written.\n",
        "\n",
        "c. Function can take any dynamic values to those parameters and give different result."
      ],
      "metadata": {
        "id": "_a_KzKrhCDCo"
      }
    },
    {
      "cell_type": "markdown",
      "source": [
        "2. When does the code in a function run: when it's specified or when it's called?\n",
        "\n",
        "When it is called"
      ],
      "metadata": {
        "id": "fXMBVz7WEG-p"
      }
    },
    {
      "cell_type": "markdown",
      "source": [
        "3. What statement creates a function?\n",
        "\n",
        "```python\n",
        "def a():\n",
        "```"
      ],
      "metadata": {
        "id": "PR1mw5dGKcIU"
      }
    },
    {
      "cell_type": "markdown",
      "source": [
        "4. What is the difference between a function and a function call?\n",
        "\n",
        "Function is when we are defining the function\n",
        "```python\n",
        "def a():\n",
        "```\n",
        "\n",
        "Function call is when we are calling the function with some values or nothing depending on how we are defining the function\n",
        "\n",
        "```python\n",
        "a()\n",
        "```"
      ],
      "metadata": {
        "id": "Lud1zHW-Kswh"
      }
    },
    {
      "cell_type": "markdown",
      "source": [
        "5. How many global scopes are there in a Python program? How many local scopes?\n",
        "\n",
        "There can only one global scope in the program. There can be multiple local scope in the program"
      ],
      "metadata": {
        "id": "cWB5a7X1LQXv"
      }
    },
    {
      "cell_type": "markdown",
      "source": [
        "6. What happens to variables in a local scope when the function call returns?\n",
        "\n",
        "Everytime the function call happens the variables in the local scope gets re-initialized.\n"
      ],
      "metadata": {
        "id": "x-f7RwcRNJsf"
      }
    },
    {
      "cell_type": "markdown",
      "source": [
        "7. What is the concept of a return value? Is it possible to have a return value in an expression?\n",
        "\n",
        "A function can have a return value which returns some value.\n",
        "\n",
        "It is possible to have a return value in an expression."
      ],
      "metadata": {
        "id": "B-6-3mUANkKP"
      }
    },
    {
      "cell_type": "markdown",
      "source": [
        "8. If a function does not have a return statement, what is the return value of a call to that function?\n",
        "\n",
        "None"
      ],
      "metadata": {
        "id": "Z8fMCqJgOmmg"
      }
    },
    {
      "cell_type": "markdown",
      "source": [
        "9. How do you make a function variable refer to the global variable?\n",
        "\n",
        "```python\n",
        "x = 100\n",
        "def a():\n",
        "    b = x\n",
        "    print(b)\n",
        "```"
      ],
      "metadata": {
        "id": "0o11Ldn0PJqB"
      }
    },
    {
      "cell_type": "markdown",
      "source": [
        "10. What is the data type of None?\n",
        "\n",
        "```python\n",
        "<class 'NoneType'>\n",
        "```"
      ],
      "metadata": {
        "id": "Wt1fKZvtP05y"
      }
    },
    {
      "cell_type": "markdown",
      "source": [
        "11. What does the sentence import areallyourpetsnamederic do?\n",
        "\n",
        "It import the module areallyourpetsnamederic to the module from where it is called."
      ],
      "metadata": {
        "id": "bRo61YzKQLFi"
      }
    },
    {
      "cell_type": "markdown",
      "source": [
        "12. If you had a bacon() feature in a spam module, what would you call it after importing spam?\n",
        "\n",
        "```python\n",
        "import spam\n",
        "spam.bacon()\n",
        "```"
      ],
      "metadata": {
        "id": "RmbetPb7Qc5b"
      }
    },
    {
      "cell_type": "markdown",
      "source": [
        "13. What can you do to save a programme from crashing if it encounters an error?\n",
        "\n",
        "Use Error Handling techniques- `try` and `except`"
      ],
      "metadata": {
        "id": "tquU0y07Qruv"
      }
    },
    {
      "cell_type": "markdown",
      "source": [
        "14. What is the purpose of the try clause? What is the purpose of the except clause?\n",
        "\n",
        "```python\n",
        "try:\n",
        "    ...\n",
        "except:\n",
        "    ...\n",
        "```\n",
        "\n",
        "`try` block holds the part of code where the error was excepted to happen.\n",
        "\n",
        "And whenever an exception occurs it will go to the `except` block and show the exception result."
      ],
      "metadata": {
        "id": "3sosf7swQ6Is"
      }
    }
  ]
}